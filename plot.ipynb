{
 "cells": [
  {
   "cell_type": "code",
   "execution_count": null,
   "id": "8f6f776c-f632-4f93-a313-5340a8d9803c",
   "metadata": {},
   "outputs": [],
   "source": [
    "import matplotlib.pyplot as plt\n",
    "import pandas as pd\n",
    "%matplotlib inline\n",
    "pd.set_option(\"display.max.columns\", None)\n"
   ]
  },
  {
   "cell_type": "code",
   "execution_count": null,
   "id": "5b1404f6-3fc0-4a78-a776-cb56b3be3b0f",
   "metadata": {},
   "outputs": [],
   "source": [
    "results = pd.DataFrame(columns=['count','ctime','wtime','cerr','werr'])\n",
    "WORK=\"NOPLOOP\"\n",
    "TYPE=\"LOCAL_WORK\"\n",
    "CPU0=3\n",
    "CPU1=17\n",
    "MACHINE=\"don\"\n",
    "DATE=\"14-11-22:15:25:37\"\n",
    "\n",
    "\n",
    "for COUNT in [100, 200, 400, 800, 1600, 3200, 6400, 12800, 25600, 51200]:\n",
    "    FILE=\"data/\"+MACHINE+\"/\"+DATE+\"/bm.\"+WORK+\"_\"+TYPE+\"_\"+str(COUNT)+\"_\"+str(CPU0)+\"_\"+str(CPU1)+\".times\"\n",
    "    print(FILE)\n",
    "    data=pd.read_csv(FILE)\n",
    "    count=data['count'][0]\n",
    "    cpu0=data['cpu0'][0]\n",
    "    cpu1=data['cpu1'][0]\n",
    "    data['pctime']=data['ctime']/count\n",
    "    data['pwtime']=data['wtime']/count\n",
    "    minCtime=data['pctime'].min()\n",
    "    maxCtime=data['pctime'].max()\n",
    "    meanCtime=data['pctime'].mean()\n",
    "    errCtime=[meanCtime - minCtime, maxCtime - meanCtime]\n",
    "    minWtime=data['pwtime'].min()\n",
    "    maxWtime=data['pwtime'].max()\n",
    "    meanWtime=data['pwtime'].mean()\n",
    "    errWtime=meanWtime - minWtime, maxWtime - meanWtime\n",
    "    newres = pd.DataFrame([{'count':count, 'ctime':meanCtime, 'wtime':meanWtime, 'cerr':errCtime, 'werr':errWtime}])\n",
    "    results = pd.concat([results, newres], axis=0,ignore_index=True)\n",
    "results\n",
    "plt.figure()\n",
    "fig, ax = plt.subplots()\n",
    "ax.set_ylim([0,36000])\n",
    "ax.plot(results[\"count\"],results[\"ctime\"], label=WORK+\"_\"+TYPE+\"_CTIME\",marker='x')\n",
    "ax.plot(results[\"count\"],results[\"wtime\"], label=WORK+\"_\"+TYPE+\"_WTIME\",marker='o')\n",
    "plt.show()"
   ]
  },
  {
   "cell_type": "code",
   "execution_count": null,
   "id": "ea228cfe-4291-4267-91c7-357ef2a04c5a",
   "metadata": {},
   "outputs": [],
   "source": [
    "FILE=\"data/\"+MACHINE+\"/\"+DATE+\"/bm.\"+WORK+\"_\"+TYPE+\"_\"+str(COUNT)+\"_\"+str(CPU0)+\"_\"+str(CPU1)+\".times\"\n",
    "print(FILE)"
   ]
  },
  {
   "cell_type": "code",
   "execution_count": null,
   "id": "da304215-3e8c-43b3-850d-d3b990e0472c",
   "metadata": {},
   "outputs": [],
   "source": [
    "data=pd.read_csv(FILE)"
   ]
  },
  {
   "cell_type": "code",
   "execution_count": null,
   "id": "121548c1-2a15-4836-81fb-96aaf26d69e5",
   "metadata": {},
   "outputs": [],
   "source": [
    "data"
   ]
  },
  {
   "cell_type": "code",
   "execution_count": null,
   "id": "4eb233a3-fb9a-4fb0-84c0-6efac0df43c7",
   "metadata": {},
   "outputs": [],
   "source": [
    "count=data['count'][0]\n",
    "cpu0=data['cpu0'][0]\n",
    "cpu1=data['cpu1'][0]\n",
    "data['pctime']=data['ctime']/count\n",
    "data['pwtime']=data['wtime']/count\n",
    "minCtime=data['pctime'].min()\n",
    "maxCtime=data['pctime'].max()\n",
    "meanCtime=data['pctime'].mean()\n",
    "errCtime=[meanCtime - minCtime, maxCtime - meanCtime]\n",
    "minWtime=data['pwtime'].min()\n",
    "maxWtime=data['pwtime'].max()\n",
    "meanWtime=data['pwtime'].mean()\n",
    "errWtime=[meanWtime - minWtime, maxWtime - meanWtime]\n",
    "newres = pd.DataFrame([{'count':count, 'ctime':meanCtime, 'wtime':meanWtime, 'cerr':errCtime, 'werr':errWtime}])\n",
    "results = pd.concat([results, newres], axis=0,ignore_index=True)\n",
    "#results['ctime'][1] = meanCtime\n",
    "#results['wtime'][1] = meanWtime\n",
    "#results['cerr'][1] = errCtime\n",
    "#results['werr'][1] = errWtime"
   ]
  },
  {
   "cell_type": "code",
   "execution_count": null,
   "id": "3b636344-0070-4385-b8f9-ec12d69f0c9c",
   "metadata": {},
   "outputs": [],
   "source": [
    "data"
   ]
  },
  {
   "cell_type": "code",
   "execution_count": null,
   "id": "7aa7d3f5-a251-47a0-b5cf-c38d6177906c",
   "metadata": {},
   "outputs": [],
   "source": [
    "errCtime,errWtime"
   ]
  },
  {
   "cell_type": "code",
   "execution_count": null,
   "id": "7aea13b2-33d6-4ef2-8930-930eb26e5ad4",
   "metadata": {},
   "outputs": [],
   "source": [
    "results"
   ]
  },
  {
   "cell_type": "code",
   "execution_count": null,
   "id": "6f66ad65-f115-4c5e-9456-075196a28240",
   "metadata": {},
   "outputs": [],
   "source": []
  }
 ],
 "metadata": {
  "kernelspec": {
   "display_name": "Python 3 (ipykernel)",
   "language": "python",
   "name": "python3"
  },
  "language_info": {
   "codemirror_mode": {
    "name": "ipython",
    "version": 3
   },
   "file_extension": ".py",
   "mimetype": "text/x-python",
   "name": "python",
   "nbconvert_exporter": "python",
   "pygments_lexer": "ipython3",
   "version": "3.10.5"
  }
 },
 "nbformat": 4,
 "nbformat_minor": 5
}
